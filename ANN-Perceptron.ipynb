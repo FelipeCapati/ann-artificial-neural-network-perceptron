{
 "cells": [
  {
   "cell_type": "code",
   "execution_count": 13,
   "metadata": {},
   "outputs": [],
   "source": [
    "import numpy as np\n",
    "from perceptron import Perceptron"
   ]
  },
  {
   "cell_type": "markdown",
   "metadata": {},
   "source": [
    "## Exemplo 1 - E (AND)"
   ]
  },
  {
   "cell_type": "code",
   "execution_count": 14,
   "metadata": {},
   "outputs": [],
   "source": [
    "training_inputs = []\n",
    "training_inputs.append(np.array([1, 1]))\n",
    "training_inputs.append(np.array([1, 0]))\n",
    "training_inputs.append(np.array([0, 1]))\n",
    "training_inputs.append(np.array([0, 0]))\n",
    "\n",
    "labels = np.array([1, 0, 0, 0])"
   ]
  },
  {
   "cell_type": "code",
   "execution_count": 15,
   "metadata": {},
   "outputs": [],
   "source": [
    "perceptron = Perceptron(2)\n",
    "perceptron.train(training_inputs, labels)"
   ]
  },
  {
   "cell_type": "code",
   "execution_count": 16,
   "metadata": {},
   "outputs": [
    {
     "name": "stdout",
     "output_type": "stream",
     "text": [
      "-- Input: [1 1] -- Output: 1 -- Real Label: 1 --\n",
      "-- Input: [1 0] -- Output: 0 -- Real Label: 0 --\n",
      "-- Input: [0 1] -- Output: 0 -- Real Label: 0 --\n",
      "-- Input: [0 0] -- Output: 0 -- Real Label: 0 --\n"
     ]
    }
   ],
   "source": [
    "for inputs, label in zip(training_inputs, labels):\n",
    "    output_label = perceptron.predict(inputs)\n",
    "    print(\"-- Input: %s -- Output: %s -- Real Label: %s --\" %(inputs, output_label, label))"
   ]
  },
  {
   "cell_type": "markdown",
   "metadata": {},
   "source": [
    "## Exemplo 2 - OU (OR)"
   ]
  },
  {
   "cell_type": "code",
   "execution_count": 17,
   "metadata": {},
   "outputs": [],
   "source": [
    "training_inputs = []\n",
    "training_inputs.append(np.array([1, 1]))\n",
    "training_inputs.append(np.array([1, 0]))\n",
    "training_inputs.append(np.array([0, 1]))\n",
    "training_inputs.append(np.array([0, 0]))\n",
    "\n",
    "labels = np.array([1, 1, 1, 0])"
   ]
  },
  {
   "cell_type": "code",
   "execution_count": 18,
   "metadata": {},
   "outputs": [],
   "source": [
    "perceptron = Perceptron(2)\n",
    "perceptron.train(training_inputs, labels)"
   ]
  },
  {
   "cell_type": "code",
   "execution_count": 19,
   "metadata": {},
   "outputs": [
    {
     "name": "stdout",
     "output_type": "stream",
     "text": [
      "-- Input: [1 1] -- Output: 1 -- Real Label: 1 --\n",
      "-- Input: [1 0] -- Output: 1 -- Real Label: 1 --\n",
      "-- Input: [0 1] -- Output: 1 -- Real Label: 1 --\n",
      "-- Input: [0 0] -- Output: 0 -- Real Label: 0 --\n"
     ]
    }
   ],
   "source": [
    "for inputs, label in zip(training_inputs, labels):\n",
    "    output_label = perceptron.predict(inputs)\n",
    "    print(\"-- Input: %s -- Output: %s -- Real Label: %s --\" %(inputs, output_label, label))"
   ]
  },
  {
   "cell_type": "markdown",
   "metadata": {},
   "source": [
    "## Exemplo 3 - OU EXLUSIVO (XOR)"
   ]
  },
  {
   "cell_type": "code",
   "execution_count": 20,
   "metadata": {},
   "outputs": [],
   "source": [
    "training_inputs = []\n",
    "training_inputs.append(np.array([1, 1]))\n",
    "training_inputs.append(np.array([1, 0]))\n",
    "training_inputs.append(np.array([0, 1]))\n",
    "training_inputs.append(np.array([0, 0]))\n",
    "\n",
    "labels = np.array([0, 1, 1, 0])"
   ]
  },
  {
   "cell_type": "code",
   "execution_count": 21,
   "metadata": {},
   "outputs": [],
   "source": [
    "perceptron = Perceptron(2)\n",
    "perceptron.train(training_inputs, labels)"
   ]
  },
  {
   "cell_type": "code",
   "execution_count": 22,
   "metadata": {},
   "outputs": [
    {
     "name": "stdout",
     "output_type": "stream",
     "text": [
      "-- Input: [1 1] -- Output: 1 -- Real Label: 0 --\n",
      "-- Input: [1 0] -- Output: 1 -- Real Label: 1 --\n",
      "-- Input: [0 1] -- Output: 0 -- Real Label: 1 --\n",
      "-- Input: [0 0] -- Output: 0 -- Real Label: 0 --\n"
     ]
    }
   ],
   "source": [
    "for inputs, label in zip(training_inputs, labels):\n",
    "    output_label = perceptron.predict(inputs)\n",
    "    print(\"-- Input: %s -- Output: %s -- Real Label: %s --\" %(inputs, output_label, label))"
   ]
  },
  {
   "cell_type": "markdown",
   "metadata": {},
   "source": [
    "## Exemplo 5 - IRIS DATASET"
   ]
  },
  {
   "cell_type": "code",
   "execution_count": 31,
   "metadata": {},
   "outputs": [],
   "source": [
    "training_inputs = []\n",
    "training_inputs.append(np.array([5.1,3.5,1.4,0.2]))\n",
    "training_inputs.append(np.array([4.9,3.0,1.4,0.2]))\n",
    "training_inputs.append(np.array([4.7,3.2,1.3,0.2]))\n",
    "training_inputs.append(np.array([4.6,3.1,1.5,0.2]))\n",
    "training_inputs.append(np.array([5.0,3.6,1.4,0.2]))\n",
    "training_inputs.append(np.array([5.4,3.9,1.7,0.4]))\n",
    "training_inputs.append(np.array([4.6,3.4,1.4,0.3]))\n",
    "training_inputs.append(np.array([5.0,3.4,1.5,0.2]))\n",
    "training_inputs.append(np.array([4.4,2.9,1.4,0.2]))\n",
    "training_inputs.append(np.array([4.9,3.1,1.5,0.1]))\n",
    "training_inputs.append(np.array([5.4,3.7,1.5,0.2]))\n",
    "training_inputs.append(np.array([4.8,3.4,1.6,0.2]))\n",
    "training_inputs.append(np.array([4.8,3.0,1.4,0.1]))\n",
    "training_inputs.append(np.array([4.3,3.0,1.1,0.1]))\n",
    "training_inputs.append(np.array([5.8,4.0,1.2,0.2]))\n",
    "training_inputs.append(np.array([5.7,4.4,1.5,0.4]))\n",
    "training_inputs.append(np.array([5.4,3.9,1.3,0.4]))\n",
    "training_inputs.append(np.array([5.1,3.5,1.4,0.3]))\n",
    "training_inputs.append(np.array([5.7,3.8,1.7,0.3]))\n",
    "training_inputs.append(np.array([5.1,3.8,1.5,0.3]))\n",
    "training_inputs.append(np.array([5.4,3.4,1.7,0.2]))\n",
    "training_inputs.append(np.array([5.1,3.7,1.5,0.4]))\n",
    "training_inputs.append(np.array([4.6,3.6,1.0,0.2]))\n",
    "training_inputs.append(np.array([5.1,3.3,1.7,0.5]))\n",
    "training_inputs.append(np.array([4.8,3.4,1.9,0.2]))\n",
    "training_inputs.append(np.array([5.0,3.0,1.6,0.2]))\n",
    "training_inputs.append(np.array([5.0,3.4,1.6,0.4]))\n",
    "training_inputs.append(np.array([5.2,3.5,1.5,0.2]))\n",
    "training_inputs.append(np.array([5.2,3.4,1.4,0.2]))\n",
    "training_inputs.append(np.array([4.7,3.2,1.6,0.2]))\n",
    "training_inputs.append(np.array([4.8,3.1,1.6,0.2]))\n",
    "training_inputs.append(np.array([5.4,3.4,1.5,0.4]))\n",
    "training_inputs.append(np.array([5.2,4.1,1.5,0.1]))\n",
    "training_inputs.append(np.array([5.5,4.2,1.4,0.2]))\n",
    "training_inputs.append(np.array([4.9,3.1,1.5,0.1]))\n",
    "training_inputs.append(np.array([5.0,3.2,1.2,0.2]))\n",
    "training_inputs.append(np.array([5.5,3.5,1.3,0.2]))\n",
    "training_inputs.append(np.array([4.9,3.1,1.5,0.1]))\n",
    "training_inputs.append(np.array([4.4,3.0,1.3,0.2]))\n",
    "training_inputs.append(np.array([5.1,3.4,1.5,0.2]))\n",
    "training_inputs.append(np.array([5.0,3.5,1.3,0.3]))\n",
    "training_inputs.append(np.array([4.5,2.3,1.3,0.3]))\n",
    "training_inputs.append(np.array([4.4,3.2,1.3,0.2]))\n",
    "training_inputs.append(np.array([5.0,3.5,1.6,0.6]))\n",
    "training_inputs.append(np.array([5.1,3.8,1.9,0.4]))\n",
    "training_inputs.append(np.array([4.8,3.0,1.4,0.3]))\n",
    "training_inputs.append(np.array([5.1,3.8,1.6,0.2]))\n",
    "training_inputs.append(np.array([4.6,3.2,1.4,0.2]))\n",
    "training_inputs.append(np.array([5.3,3.7,1.5,0.2]))\n",
    "training_inputs.append(np.array([5.0,3.3,1.4,0.2]))\n",
    "training_inputs.append(np.array([7.0,3.2,4.7,1.4]))\n",
    "training_inputs.append(np.array([6.4,3.2,4.5,1.5]))\n",
    "training_inputs.append(np.array([6.9,3.1,4.9,1.5]))\n",
    "training_inputs.append(np.array([5.5,2.3,4.0,1.3]))\n",
    "training_inputs.append(np.array([6.5,2.8,4.6,1.5]))\n",
    "training_inputs.append(np.array([5.7,2.8,4.5,1.3]))\n",
    "training_inputs.append(np.array([6.3,3.3,4.7,1.6]))\n",
    "training_inputs.append(np.array([4.9,2.4,3.3,1.0]))\n",
    "training_inputs.append(np.array([6.6,2.9,4.6,1.3]))\n",
    "training_inputs.append(np.array([5.2,2.7,3.9,1.4]))\n",
    "training_inputs.append(np.array([5.0,2.0,3.5,1.0]))\n",
    "training_inputs.append(np.array([5.9,3.0,4.2,1.5]))\n",
    "training_inputs.append(np.array([6.0,2.2,4.0,1.0]))\n",
    "training_inputs.append(np.array([6.1,2.9,4.7,1.4]))\n",
    "training_inputs.append(np.array([5.6,2.9,3.6,1.3]))\n",
    "training_inputs.append(np.array([6.7,3.1,4.4,1.4]))\n",
    "training_inputs.append(np.array([5.6,3.0,4.5,1.5]))\n",
    "training_inputs.append(np.array([5.8,2.7,4.1,1.0]))\n",
    "training_inputs.append(np.array([6.2,2.2,4.5,1.5]))\n",
    "training_inputs.append(np.array([5.6,2.5,3.9,1.1]))\n",
    "training_inputs.append(np.array([5.9,3.2,4.8,1.8]))\n",
    "training_inputs.append(np.array([6.1,2.8,4.0,1.3]))\n",
    "training_inputs.append(np.array([6.3,2.5,4.9,1.5]))\n",
    "training_inputs.append(np.array([6.1,2.8,4.7,1.2]))\n",
    "training_inputs.append(np.array([6.4,2.9,4.3,1.3]))\n",
    "training_inputs.append(np.array([6.6,3.0,4.4,1.4]))\n",
    "training_inputs.append(np.array([6.8,2.8,4.8,1.4]))\n",
    "training_inputs.append(np.array([6.7,3.0,5.0,1.7]))\n",
    "training_inputs.append(np.array([6.0,2.9,4.5,1.5]))\n",
    "training_inputs.append(np.array([5.7,2.6,3.5,1.0]))\n",
    "training_inputs.append(np.array([5.5,2.4,3.8,1.1]))\n",
    "training_inputs.append(np.array([5.5,2.4,3.7,1.0]))\n",
    "training_inputs.append(np.array([5.8,2.7,3.9,1.2]))\n",
    "training_inputs.append(np.array([6.0,2.7,5.1,1.6]))\n",
    "training_inputs.append(np.array([5.4,3.0,4.5,1.5]))\n",
    "training_inputs.append(np.array([6.0,3.4,4.5,1.6]))\n",
    "training_inputs.append(np.array([6.7,3.1,4.7,1.5]))\n",
    "training_inputs.append(np.array([6.3,2.3,4.4,1.3]))\n",
    "training_inputs.append(np.array([5.6,3.0,4.1,1.3]))\n",
    "training_inputs.append(np.array([5.5,2.5,4.0,1.3]))\n",
    "training_inputs.append(np.array([5.5,2.6,4.4,1.2]))\n",
    "training_inputs.append(np.array([6.1,3.0,4.6,1.4]))\n",
    "training_inputs.append(np.array([5.8,2.6,4.0,1.2]))\n",
    "training_inputs.append(np.array([5.0,2.3,3.3,1.0]))\n",
    "training_inputs.append(np.array([5.6,2.7,4.2,1.3]))\n",
    "training_inputs.append(np.array([5.7,3.0,4.2,1.2]))\n",
    "training_inputs.append(np.array([5.7,2.9,4.2,1.3]))\n",
    "training_inputs.append(np.array([6.2,2.9,4.3,1.3]))\n",
    "training_inputs.append(np.array([5.1,2.5,3.0,1.1]))\n",
    "training_inputs.append(np.array([5.7,2.8,4.1,1.3]))\n",
    "labels_p1 = np.array([0, 0, 0, 0, 0, 0, 0, 0, 0, 0, 0, 0, 0, 0, 0, 0, 0, 0, 0, 0, 0, 0, 0, 0, 0, 0, 0, 0, 0, 0, 0, 0, 0, 0, 0, 0, 0, 0, 0, 0, 0, 0, 0, 0, 0, 0, 0, 0, 0, 0, 1, 1, 1, 1, 1, 1, 1, 1, 1, 1, 1, 1, 1, 1, 1, 1, 1, 1, 1, 1, 1, 1, 1, 1, 1, 1, 1, 1, 1, 1, 1, 1, 1, 1, 1, 1, 1, 1, 1, 1, 1, 1, 1, 1, 1, 1, 1, 1, 1, 1])\n",
    "labels_p2 = np.array([1, 1, 1, 1, 1, 1, 1, 1, 1, 1, 1, 1, 1, 1, 1, 1, 1, 1, 1, 1, 1, 1, 1, 1, 1, 1, 1, 1, 1, 1, 1, 1, 1, 1, 1, 1, 1, 1, 1, 1, 1, 1, 1, 1, 1, 1, 1, 1, 1, 1, 0, 0, 0, 0, 0, 0, 0, 0, 0, 0, 0, 0, 0, 0, 0, 0, 0, 0, 0, 0, 0, 0, 0, 0, 0, 0, 0, 0, 0, 0, 0, 0, 0, 0, 0, 0, 0, 0, 0, 0, 0, 0, 0, 0, 0, 0, 0, 0, 0, 0])"
   ]
  },
  {
   "cell_type": "code",
   "execution_count": 32,
   "metadata": {},
   "outputs": [],
   "source": [
    "perceptron_p1 = Perceptron(4)\n",
    "perceptron_p1.train(training_inputs, labels_p1)\n",
    "perceptron_p2 = Perceptron(4)\n",
    "perceptron_p2.train(training_inputs, labels_p2)"
   ]
  },
  {
   "cell_type": "code",
   "execution_count": 33,
   "metadata": {},
   "outputs": [
    {
     "name": "stdout",
     "output_type": "stream",
     "text": [
      "-- Input: [5.1 3.5 1.4 0.2] -- Output: 0 -- Real Label: 0 --\n",
      "-- Input: [4.9 3.  1.4 0.2] -- Output: 0 -- Real Label: 0 --\n",
      "-- Input: [4.7 3.2 1.3 0.2] -- Output: 0 -- Real Label: 0 --\n",
      "-- Input: [4.6 3.1 1.5 0.2] -- Output: 0 -- Real Label: 0 --\n",
      "-- Input: [5.  3.6 1.4 0.2] -- Output: 0 -- Real Label: 0 --\n",
      "-- Input: [5.4 3.9 1.7 0.4] -- Output: 0 -- Real Label: 0 --\n",
      "-- Input: [4.6 3.4 1.4 0.3] -- Output: 0 -- Real Label: 0 --\n",
      "-- Input: [5.  3.4 1.5 0.2] -- Output: 0 -- Real Label: 0 --\n",
      "-- Input: [4.4 2.9 1.4 0.2] -- Output: 0 -- Real Label: 0 --\n",
      "-- Input: [4.9 3.1 1.5 0.1] -- Output: 0 -- Real Label: 0 --\n",
      "-- Input: [5.4 3.7 1.5 0.2] -- Output: 0 -- Real Label: 0 --\n",
      "-- Input: [4.8 3.4 1.6 0.2] -- Output: 0 -- Real Label: 0 --\n",
      "-- Input: [4.8 3.  1.4 0.1] -- Output: 0 -- Real Label: 0 --\n",
      "-- Input: [4.3 3.  1.1 0.1] -- Output: 0 -- Real Label: 0 --\n",
      "-- Input: [5.8 4.  1.2 0.2] -- Output: 0 -- Real Label: 0 --\n",
      "-- Input: [5.7 4.4 1.5 0.4] -- Output: 0 -- Real Label: 0 --\n",
      "-- Input: [5.4 3.9 1.3 0.4] -- Output: 0 -- Real Label: 0 --\n",
      "-- Input: [5.1 3.5 1.4 0.3] -- Output: 0 -- Real Label: 0 --\n",
      "-- Input: [5.7 3.8 1.7 0.3] -- Output: 0 -- Real Label: 0 --\n",
      "-- Input: [5.1 3.8 1.5 0.3] -- Output: 0 -- Real Label: 0 --\n",
      "-- Input: [5.4 3.4 1.7 0.2] -- Output: 0 -- Real Label: 0 --\n",
      "-- Input: [5.1 3.7 1.5 0.4] -- Output: 0 -- Real Label: 0 --\n",
      "-- Input: [4.6 3.6 1.  0.2] -- Output: 0 -- Real Label: 0 --\n",
      "-- Input: [5.1 3.3 1.7 0.5] -- Output: 0 -- Real Label: 0 --\n",
      "-- Input: [4.8 3.4 1.9 0.2] -- Output: 0 -- Real Label: 0 --\n",
      "-- Input: [5.  3.  1.6 0.2] -- Output: 0 -- Real Label: 0 --\n",
      "-- Input: [5.  3.4 1.6 0.4] -- Output: 0 -- Real Label: 0 --\n",
      "-- Input: [5.2 3.5 1.5 0.2] -- Output: 0 -- Real Label: 0 --\n",
      "-- Input: [5.2 3.4 1.4 0.2] -- Output: 0 -- Real Label: 0 --\n",
      "-- Input: [4.7 3.2 1.6 0.2] -- Output: 0 -- Real Label: 0 --\n",
      "-- Input: [4.8 3.1 1.6 0.2] -- Output: 0 -- Real Label: 0 --\n",
      "-- Input: [5.4 3.4 1.5 0.4] -- Output: 0 -- Real Label: 0 --\n",
      "-- Input: [5.2 4.1 1.5 0.1] -- Output: 0 -- Real Label: 0 --\n",
      "-- Input: [5.5 4.2 1.4 0.2] -- Output: 0 -- Real Label: 0 --\n",
      "-- Input: [4.9 3.1 1.5 0.1] -- Output: 0 -- Real Label: 0 --\n",
      "-- Input: [5.  3.2 1.2 0.2] -- Output: 0 -- Real Label: 0 --\n",
      "-- Input: [5.5 3.5 1.3 0.2] -- Output: 0 -- Real Label: 0 --\n",
      "-- Input: [4.9 3.1 1.5 0.1] -- Output: 0 -- Real Label: 0 --\n",
      "-- Input: [4.4 3.  1.3 0.2] -- Output: 0 -- Real Label: 0 --\n",
      "-- Input: [5.1 3.4 1.5 0.2] -- Output: 0 -- Real Label: 0 --\n",
      "-- Input: [5.  3.5 1.3 0.3] -- Output: 0 -- Real Label: 0 --\n",
      "-- Input: [4.5 2.3 1.3 0.3] -- Output: 0 -- Real Label: 0 --\n",
      "-- Input: [4.4 3.2 1.3 0.2] -- Output: 0 -- Real Label: 0 --\n",
      "-- Input: [5.  3.5 1.6 0.6] -- Output: 0 -- Real Label: 0 --\n",
      "-- Input: [5.1 3.8 1.9 0.4] -- Output: 0 -- Real Label: 0 --\n",
      "-- Input: [4.8 3.  1.4 0.3] -- Output: 0 -- Real Label: 0 --\n",
      "-- Input: [5.1 3.8 1.6 0.2] -- Output: 0 -- Real Label: 0 --\n",
      "-- Input: [4.6 3.2 1.4 0.2] -- Output: 0 -- Real Label: 0 --\n",
      "-- Input: [5.3 3.7 1.5 0.2] -- Output: 0 -- Real Label: 0 --\n",
      "-- Input: [5.  3.3 1.4 0.2] -- Output: 0 -- Real Label: 0 --\n",
      "-- Input: [7.  3.2 4.7 1.4] -- Output: 1 -- Real Label: 1 --\n",
      "-- Input: [6.4 3.2 4.5 1.5] -- Output: 1 -- Real Label: 1 --\n",
      "-- Input: [6.9 3.1 4.9 1.5] -- Output: 1 -- Real Label: 1 --\n",
      "-- Input: [5.5 2.3 4.  1.3] -- Output: 1 -- Real Label: 1 --\n",
      "-- Input: [6.5 2.8 4.6 1.5] -- Output: 1 -- Real Label: 1 --\n",
      "-- Input: [5.7 2.8 4.5 1.3] -- Output: 1 -- Real Label: 1 --\n",
      "-- Input: [6.3 3.3 4.7 1.6] -- Output: 1 -- Real Label: 1 --\n",
      "-- Input: [4.9 2.4 3.3 1. ] -- Output: 1 -- Real Label: 1 --\n",
      "-- Input: [6.6 2.9 4.6 1.3] -- Output: 1 -- Real Label: 1 --\n",
      "-- Input: [5.2 2.7 3.9 1.4] -- Output: 1 -- Real Label: 1 --\n",
      "-- Input: [5.  2.  3.5 1. ] -- Output: 1 -- Real Label: 1 --\n",
      "-- Input: [5.9 3.  4.2 1.5] -- Output: 1 -- Real Label: 1 --\n",
      "-- Input: [6.  2.2 4.  1. ] -- Output: 1 -- Real Label: 1 --\n",
      "-- Input: [6.1 2.9 4.7 1.4] -- Output: 1 -- Real Label: 1 --\n",
      "-- Input: [5.6 2.9 3.6 1.3] -- Output: 1 -- Real Label: 1 --\n",
      "-- Input: [6.7 3.1 4.4 1.4] -- Output: 1 -- Real Label: 1 --\n",
      "-- Input: [5.6 3.  4.5 1.5] -- Output: 1 -- Real Label: 1 --\n",
      "-- Input: [5.8 2.7 4.1 1. ] -- Output: 1 -- Real Label: 1 --\n",
      "-- Input: [6.2 2.2 4.5 1.5] -- Output: 1 -- Real Label: 1 --\n",
      "-- Input: [5.6 2.5 3.9 1.1] -- Output: 1 -- Real Label: 1 --\n",
      "-- Input: [5.9 3.2 4.8 1.8] -- Output: 1 -- Real Label: 1 --\n",
      "-- Input: [6.1 2.8 4.  1.3] -- Output: 1 -- Real Label: 1 --\n",
      "-- Input: [6.3 2.5 4.9 1.5] -- Output: 1 -- Real Label: 1 --\n",
      "-- Input: [6.1 2.8 4.7 1.2] -- Output: 1 -- Real Label: 1 --\n",
      "-- Input: [6.4 2.9 4.3 1.3] -- Output: 1 -- Real Label: 1 --\n",
      "-- Input: [6.6 3.  4.4 1.4] -- Output: 1 -- Real Label: 1 --\n",
      "-- Input: [6.8 2.8 4.8 1.4] -- Output: 1 -- Real Label: 1 --\n",
      "-- Input: [6.7 3.  5.  1.7] -- Output: 1 -- Real Label: 1 --\n",
      "-- Input: [6.  2.9 4.5 1.5] -- Output: 1 -- Real Label: 1 --\n",
      "-- Input: [5.7 2.6 3.5 1. ] -- Output: 1 -- Real Label: 1 --\n",
      "-- Input: [5.5 2.4 3.8 1.1] -- Output: 1 -- Real Label: 1 --\n",
      "-- Input: [5.5 2.4 3.7 1. ] -- Output: 1 -- Real Label: 1 --\n",
      "-- Input: [5.8 2.7 3.9 1.2] -- Output: 1 -- Real Label: 1 --\n",
      "-- Input: [6.  2.7 5.1 1.6] -- Output: 1 -- Real Label: 1 --\n",
      "-- Input: [5.4 3.  4.5 1.5] -- Output: 1 -- Real Label: 1 --\n",
      "-- Input: [6.  3.4 4.5 1.6] -- Output: 1 -- Real Label: 1 --\n",
      "-- Input: [6.7 3.1 4.7 1.5] -- Output: 1 -- Real Label: 1 --\n",
      "-- Input: [6.3 2.3 4.4 1.3] -- Output: 1 -- Real Label: 1 --\n",
      "-- Input: [5.6 3.  4.1 1.3] -- Output: 1 -- Real Label: 1 --\n",
      "-- Input: [5.5 2.5 4.  1.3] -- Output: 1 -- Real Label: 1 --\n",
      "-- Input: [5.5 2.6 4.4 1.2] -- Output: 1 -- Real Label: 1 --\n",
      "-- Input: [6.1 3.  4.6 1.4] -- Output: 1 -- Real Label: 1 --\n",
      "-- Input: [5.8 2.6 4.  1.2] -- Output: 1 -- Real Label: 1 --\n",
      "-- Input: [5.  2.3 3.3 1. ] -- Output: 1 -- Real Label: 1 --\n",
      "-- Input: [5.6 2.7 4.2 1.3] -- Output: 1 -- Real Label: 1 --\n",
      "-- Input: [5.7 3.  4.2 1.2] -- Output: 1 -- Real Label: 1 --\n",
      "-- Input: [5.7 2.9 4.2 1.3] -- Output: 1 -- Real Label: 1 --\n",
      "-- Input: [6.2 2.9 4.3 1.3] -- Output: 1 -- Real Label: 1 --\n",
      "-- Input: [5.1 2.5 3.  1.1] -- Output: 1 -- Real Label: 1 --\n",
      "-- Input: [5.7 2.8 4.1 1.3] -- Output: 1 -- Real Label: 1 --\n"
     ]
    }
   ],
   "source": [
    "for inputs, label in zip(training_inputs, labels_p1):\n",
    "    output_label = perceptron_p1.predict(inputs)\n",
    "    print(\"-- Input: %s -- Output: %s -- Real Label: %s --\" %(inputs, output_label, label))"
   ]
  },
  {
   "cell_type": "code",
   "execution_count": 34,
   "metadata": {},
   "outputs": [
    {
     "name": "stdout",
     "output_type": "stream",
     "text": [
      "-- Input: [5.1 3.5 1.4 0.2] -- Output: 1 -- Real Label: 1 --\n",
      "-- Input: [4.9 3.  1.4 0.2] -- Output: 1 -- Real Label: 1 --\n",
      "-- Input: [4.7 3.2 1.3 0.2] -- Output: 1 -- Real Label: 1 --\n",
      "-- Input: [4.6 3.1 1.5 0.2] -- Output: 1 -- Real Label: 1 --\n",
      "-- Input: [5.  3.6 1.4 0.2] -- Output: 1 -- Real Label: 1 --\n",
      "-- Input: [5.4 3.9 1.7 0.4] -- Output: 1 -- Real Label: 1 --\n",
      "-- Input: [4.6 3.4 1.4 0.3] -- Output: 1 -- Real Label: 1 --\n",
      "-- Input: [5.  3.4 1.5 0.2] -- Output: 1 -- Real Label: 1 --\n",
      "-- Input: [4.4 2.9 1.4 0.2] -- Output: 1 -- Real Label: 1 --\n",
      "-- Input: [4.9 3.1 1.5 0.1] -- Output: 1 -- Real Label: 1 --\n",
      "-- Input: [5.4 3.7 1.5 0.2] -- Output: 1 -- Real Label: 1 --\n",
      "-- Input: [4.8 3.4 1.6 0.2] -- Output: 1 -- Real Label: 1 --\n",
      "-- Input: [4.8 3.  1.4 0.1] -- Output: 1 -- Real Label: 1 --\n",
      "-- Input: [4.3 3.  1.1 0.1] -- Output: 1 -- Real Label: 1 --\n",
      "-- Input: [5.8 4.  1.2 0.2] -- Output: 1 -- Real Label: 1 --\n",
      "-- Input: [5.7 4.4 1.5 0.4] -- Output: 1 -- Real Label: 1 --\n",
      "-- Input: [5.4 3.9 1.3 0.4] -- Output: 1 -- Real Label: 1 --\n",
      "-- Input: [5.1 3.5 1.4 0.3] -- Output: 1 -- Real Label: 1 --\n",
      "-- Input: [5.7 3.8 1.7 0.3] -- Output: 1 -- Real Label: 1 --\n",
      "-- Input: [5.1 3.8 1.5 0.3] -- Output: 1 -- Real Label: 1 --\n",
      "-- Input: [5.4 3.4 1.7 0.2] -- Output: 1 -- Real Label: 1 --\n",
      "-- Input: [5.1 3.7 1.5 0.4] -- Output: 1 -- Real Label: 1 --\n",
      "-- Input: [4.6 3.6 1.  0.2] -- Output: 1 -- Real Label: 1 --\n",
      "-- Input: [5.1 3.3 1.7 0.5] -- Output: 1 -- Real Label: 1 --\n",
      "-- Input: [4.8 3.4 1.9 0.2] -- Output: 1 -- Real Label: 1 --\n",
      "-- Input: [5.  3.  1.6 0.2] -- Output: 1 -- Real Label: 1 --\n",
      "-- Input: [5.  3.4 1.6 0.4] -- Output: 1 -- Real Label: 1 --\n",
      "-- Input: [5.2 3.5 1.5 0.2] -- Output: 1 -- Real Label: 1 --\n",
      "-- Input: [5.2 3.4 1.4 0.2] -- Output: 1 -- Real Label: 1 --\n",
      "-- Input: [4.7 3.2 1.6 0.2] -- Output: 1 -- Real Label: 1 --\n",
      "-- Input: [4.8 3.1 1.6 0.2] -- Output: 1 -- Real Label: 1 --\n",
      "-- Input: [5.4 3.4 1.5 0.4] -- Output: 1 -- Real Label: 1 --\n",
      "-- Input: [5.2 4.1 1.5 0.1] -- Output: 1 -- Real Label: 1 --\n",
      "-- Input: [5.5 4.2 1.4 0.2] -- Output: 1 -- Real Label: 1 --\n",
      "-- Input: [4.9 3.1 1.5 0.1] -- Output: 1 -- Real Label: 1 --\n",
      "-- Input: [5.  3.2 1.2 0.2] -- Output: 1 -- Real Label: 1 --\n",
      "-- Input: [5.5 3.5 1.3 0.2] -- Output: 1 -- Real Label: 1 --\n",
      "-- Input: [4.9 3.1 1.5 0.1] -- Output: 1 -- Real Label: 1 --\n",
      "-- Input: [4.4 3.  1.3 0.2] -- Output: 1 -- Real Label: 1 --\n",
      "-- Input: [5.1 3.4 1.5 0.2] -- Output: 1 -- Real Label: 1 --\n",
      "-- Input: [5.  3.5 1.3 0.3] -- Output: 1 -- Real Label: 1 --\n",
      "-- Input: [4.5 2.3 1.3 0.3] -- Output: 1 -- Real Label: 1 --\n",
      "-- Input: [4.4 3.2 1.3 0.2] -- Output: 1 -- Real Label: 1 --\n",
      "-- Input: [5.  3.5 1.6 0.6] -- Output: 1 -- Real Label: 1 --\n",
      "-- Input: [5.1 3.8 1.9 0.4] -- Output: 1 -- Real Label: 1 --\n",
      "-- Input: [4.8 3.  1.4 0.3] -- Output: 1 -- Real Label: 1 --\n",
      "-- Input: [5.1 3.8 1.6 0.2] -- Output: 1 -- Real Label: 1 --\n",
      "-- Input: [4.6 3.2 1.4 0.2] -- Output: 1 -- Real Label: 1 --\n",
      "-- Input: [5.3 3.7 1.5 0.2] -- Output: 1 -- Real Label: 1 --\n",
      "-- Input: [5.  3.3 1.4 0.2] -- Output: 1 -- Real Label: 1 --\n",
      "-- Input: [7.  3.2 4.7 1.4] -- Output: 0 -- Real Label: 0 --\n",
      "-- Input: [6.4 3.2 4.5 1.5] -- Output: 0 -- Real Label: 0 --\n",
      "-- Input: [6.9 3.1 4.9 1.5] -- Output: 0 -- Real Label: 0 --\n",
      "-- Input: [5.5 2.3 4.  1.3] -- Output: 0 -- Real Label: 0 --\n",
      "-- Input: [6.5 2.8 4.6 1.5] -- Output: 0 -- Real Label: 0 --\n",
      "-- Input: [5.7 2.8 4.5 1.3] -- Output: 0 -- Real Label: 0 --\n",
      "-- Input: [6.3 3.3 4.7 1.6] -- Output: 0 -- Real Label: 0 --\n",
      "-- Input: [4.9 2.4 3.3 1. ] -- Output: 0 -- Real Label: 0 --\n",
      "-- Input: [6.6 2.9 4.6 1.3] -- Output: 0 -- Real Label: 0 --\n",
      "-- Input: [5.2 2.7 3.9 1.4] -- Output: 0 -- Real Label: 0 --\n",
      "-- Input: [5.  2.  3.5 1. ] -- Output: 0 -- Real Label: 0 --\n",
      "-- Input: [5.9 3.  4.2 1.5] -- Output: 0 -- Real Label: 0 --\n",
      "-- Input: [6.  2.2 4.  1. ] -- Output: 0 -- Real Label: 0 --\n",
      "-- Input: [6.1 2.9 4.7 1.4] -- Output: 0 -- Real Label: 0 --\n",
      "-- Input: [5.6 2.9 3.6 1.3] -- Output: 0 -- Real Label: 0 --\n",
      "-- Input: [6.7 3.1 4.4 1.4] -- Output: 0 -- Real Label: 0 --\n",
      "-- Input: [5.6 3.  4.5 1.5] -- Output: 0 -- Real Label: 0 --\n",
      "-- Input: [5.8 2.7 4.1 1. ] -- Output: 0 -- Real Label: 0 --\n",
      "-- Input: [6.2 2.2 4.5 1.5] -- Output: 0 -- Real Label: 0 --\n",
      "-- Input: [5.6 2.5 3.9 1.1] -- Output: 0 -- Real Label: 0 --\n",
      "-- Input: [5.9 3.2 4.8 1.8] -- Output: 0 -- Real Label: 0 --\n",
      "-- Input: [6.1 2.8 4.  1.3] -- Output: 0 -- Real Label: 0 --\n",
      "-- Input: [6.3 2.5 4.9 1.5] -- Output: 0 -- Real Label: 0 --\n",
      "-- Input: [6.1 2.8 4.7 1.2] -- Output: 0 -- Real Label: 0 --\n",
      "-- Input: [6.4 2.9 4.3 1.3] -- Output: 0 -- Real Label: 0 --\n",
      "-- Input: [6.6 3.  4.4 1.4] -- Output: 0 -- Real Label: 0 --\n",
      "-- Input: [6.8 2.8 4.8 1.4] -- Output: 0 -- Real Label: 0 --\n",
      "-- Input: [6.7 3.  5.  1.7] -- Output: 0 -- Real Label: 0 --\n",
      "-- Input: [6.  2.9 4.5 1.5] -- Output: 0 -- Real Label: 0 --\n",
      "-- Input: [5.7 2.6 3.5 1. ] -- Output: 0 -- Real Label: 0 --\n",
      "-- Input: [5.5 2.4 3.8 1.1] -- Output: 0 -- Real Label: 0 --\n",
      "-- Input: [5.5 2.4 3.7 1. ] -- Output: 0 -- Real Label: 0 --\n",
      "-- Input: [5.8 2.7 3.9 1.2] -- Output: 0 -- Real Label: 0 --\n",
      "-- Input: [6.  2.7 5.1 1.6] -- Output: 0 -- Real Label: 0 --\n",
      "-- Input: [5.4 3.  4.5 1.5] -- Output: 0 -- Real Label: 0 --\n",
      "-- Input: [6.  3.4 4.5 1.6] -- Output: 0 -- Real Label: 0 --\n",
      "-- Input: [6.7 3.1 4.7 1.5] -- Output: 0 -- Real Label: 0 --\n",
      "-- Input: [6.3 2.3 4.4 1.3] -- Output: 0 -- Real Label: 0 --\n",
      "-- Input: [5.6 3.  4.1 1.3] -- Output: 0 -- Real Label: 0 --\n",
      "-- Input: [5.5 2.5 4.  1.3] -- Output: 0 -- Real Label: 0 --\n",
      "-- Input: [5.5 2.6 4.4 1.2] -- Output: 0 -- Real Label: 0 --\n",
      "-- Input: [6.1 3.  4.6 1.4] -- Output: 0 -- Real Label: 0 --\n",
      "-- Input: [5.8 2.6 4.  1.2] -- Output: 0 -- Real Label: 0 --\n",
      "-- Input: [5.  2.3 3.3 1. ] -- Output: 0 -- Real Label: 0 --\n",
      "-- Input: [5.6 2.7 4.2 1.3] -- Output: 0 -- Real Label: 0 --\n",
      "-- Input: [5.7 3.  4.2 1.2] -- Output: 0 -- Real Label: 0 --\n",
      "-- Input: [5.7 2.9 4.2 1.3] -- Output: 0 -- Real Label: 0 --\n",
      "-- Input: [6.2 2.9 4.3 1.3] -- Output: 0 -- Real Label: 0 --\n",
      "-- Input: [5.1 2.5 3.  1.1] -- Output: 0 -- Real Label: 0 --\n",
      "-- Input: [5.7 2.8 4.1 1.3] -- Output: 0 -- Real Label: 0 --\n"
     ]
    }
   ],
   "source": [
    "for inputs, label in zip(training_inputs, labels_p2):\n",
    "    output_label = perceptron_p2.predict(inputs)\n",
    "    print(\"-- Input: %s -- Output: %s -- Real Label: %s --\" %(inputs, output_label, label))"
   ]
  }
 ],
 "metadata": {
  "kernelspec": {
   "display_name": "Python 3",
   "language": "python",
   "name": "python3"
  },
  "language_info": {
   "codemirror_mode": {
    "name": "ipython",
    "version": 3
   },
   "file_extension": ".py",
   "mimetype": "text/x-python",
   "name": "python",
   "nbconvert_exporter": "python",
   "pygments_lexer": "ipython3",
   "version": "3.7.4"
  }
 },
 "nbformat": 4,
 "nbformat_minor": 2
}
